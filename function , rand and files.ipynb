{
 "cells": [
  {
   "cell_type": "code",
   "execution_count": 1,
   "id": "3f328b2c",
   "metadata": {},
   "outputs": [
    {
     "name": "stdout",
     "output_type": "stream",
     "text": [
      "A: 5\n",
      "B: 8\n"
     ]
    }
   ],
   "source": [
    "def shreya_funcn(a,b):\n",
    "    print(\"A:\",a)\n",
    "    print(\"B:\",b)\n",
    "shreya_funcn(5,8)\n"
   ]
  },
  {
   "cell_type": "code",
   "execution_count": 2,
   "id": "ab9752e2",
   "metadata": {},
   "outputs": [
    {
     "name": "stdout",
     "output_type": "stream",
     "text": [
      "13\n"
     ]
    }
   ],
   "source": [
    "def sum(x,y):\n",
    "    sum=x+y\n",
    "    return sum\n",
    "print(sum(4,9))"
   ]
  },
  {
   "cell_type": "code",
   "execution_count": 3,
   "id": "ca9f6c3a",
   "metadata": {},
   "outputs": [
    {
     "name": "stdout",
     "output_type": "stream",
     "text": [
      "addition: 12\n",
      "subraction: 8\n",
      "division: 5.0\n"
     ]
    }
   ],
   "source": [
    "def calculation(a,b):\n",
    "    print(\"addition:\",a+b)\n",
    "    print(\"subraction:\",a-b)\n",
    "    print(\"division:\",a/b)\n",
    "calculation(10,2)"
   ]
  },
  {
   "cell_type": "code",
   "execution_count": 4,
   "id": "f2e1a817",
   "metadata": {},
   "outputs": [
    {
     "name": "stdout",
     "output_type": "stream",
     "text": [
      "2CGOCG\n"
     ]
    }
   ],
   "source": [
    "from random import randint\n",
    "def generateCaptcha(n):\n",
    "    chrs=\"abcdefghijklmnopqrstuvwxyzABCDEFGHIJKLMNOPQRSTUVWXYZ0123456789\"\n",
    "    captcha=\"\"\n",
    "    while(n):\n",
    "        captcha+=chrs[randint(1,1000)%62]\n",
    "        n-=1\n",
    "    return captcha\n",
    "captcha=generateCaptcha(6)\n",
    "print(captcha)"
   ]
  },
  {
   "cell_type": "code",
   "execution_count": 5,
   "id": "2bd7c5b0",
   "metadata": {},
   "outputs": [
    {
     "name": "stdout",
     "output_type": "stream",
     "text": [
      "file created\n"
     ]
    }
   ],
   "source": [
    "file=open(\"demo01.txt\",\"w\")\n",
    "s=\"I am shreya agrawal,                   i am using laptop,                 i recently learning python,                  python is easy language\"\n",
    "file.write(s)\n",
    "print(\"file created\")\n",
    "file.close()"
   ]
  },
  {
   "cell_type": "code",
   "execution_count": 6,
   "id": "4ed50bff",
   "metadata": {},
   "outputs": [
    {
     "name": "stdout",
     "output_type": "stream",
     "text": [
      "I am shreya agrawalI am anjali agrawal\n"
     ]
    }
   ],
   "source": [
    "file=open(\"demo02.txt\",\"r\")\n",
    "number_0f_lines= 1\n",
    "for i in range(number_0f_lines):\n",
    "    line=file.readline()\n",
    "    print(line)"
   ]
  },
  {
   "cell_type": "code",
   "execution_count": 7,
   "id": "98e1a311",
   "metadata": {},
   "outputs": [
    {
     "name": "stdout",
     "output_type": "stream",
     "text": [
      "file created\n"
     ]
    }
   ],
   "source": [
    "file=open(\"demo02.txt\",\"w\")\n",
    "s=\"I am shreya agrawal\"\n",
    "file.write(s)\n",
    "print(\"file created\")\n",
    "file.close()"
   ]
  },
  {
   "cell_type": "code",
   "execution_count": 8,
   "id": "58ed0ad6",
   "metadata": {},
   "outputs": [
    {
     "name": "stdout",
     "output_type": "stream",
     "text": [
      "file updated\n"
     ]
    }
   ],
   "source": [
    "file=open(\"demo02.txt\",\"a\")\n",
    "s=\"I am anjali agrawal\"\n",
    "file.write(s)\n",
    "print(\"file updated\")\n",
    "file.close()"
   ]
  }
 ],
 "metadata": {
  "kernelspec": {
   "display_name": "Python 3 (ipykernel)",
   "language": "python",
   "name": "python3"
  },
  "language_info": {
   "codemirror_mode": {
    "name": "ipython",
    "version": 3
   },
   "file_extension": ".py",
   "mimetype": "text/x-python",
   "name": "python",
   "nbconvert_exporter": "python",
   "pygments_lexer": "ipython3",
   "version": "3.9.7"
  }
 },
 "nbformat": 4,
 "nbformat_minor": 5
}
