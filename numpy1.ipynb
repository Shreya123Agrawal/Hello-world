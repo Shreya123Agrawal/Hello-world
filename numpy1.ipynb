{
 "cells": [
  {
   "cell_type": "code",
   "execution_count": 2,
   "id": "80bf6bbd",
   "metadata": {},
   "outputs": [
    {
     "data": {
      "text/plain": [
       "array([[1, 2, 3, 4]])"
      ]
     },
     "execution_count": 2,
     "metadata": {},
     "output_type": "execute_result"
    }
   ],
   "source": [
    "import numpy as np\n",
    "ar=np.array([[1,2,3,4]])\n",
    "ar"
   ]
  },
  {
   "cell_type": "code",
   "execution_count": 3,
   "id": "e30a1848",
   "metadata": {},
   "outputs": [
    {
     "data": {
      "text/plain": [
       "array([1, 2, 3, 4])"
      ]
     },
     "execution_count": 3,
     "metadata": {},
     "output_type": "execute_result"
    }
   ],
   "source": [
    "ar[0]"
   ]
  },
  {
   "cell_type": "code",
   "execution_count": 4,
   "id": "dcc80c8c",
   "metadata": {},
   "outputs": [
    {
     "data": {
      "text/plain": [
       "(1, 4)"
      ]
     },
     "execution_count": 4,
     "metadata": {},
     "output_type": "execute_result"
    }
   ],
   "source": [
    "ar.shape"
   ]
  },
  {
   "cell_type": "code",
   "execution_count": 5,
   "id": "683f9757",
   "metadata": {},
   "outputs": [
    {
     "data": {
      "text/plain": [
       "2"
      ]
     },
     "execution_count": 5,
     "metadata": {},
     "output_type": "execute_result"
    }
   ],
   "source": [
    "ar[0,1]"
   ]
  },
  {
   "cell_type": "code",
   "execution_count": 6,
   "id": "5ffe313f",
   "metadata": {},
   "outputs": [
    {
     "data": {
      "text/plain": [
       "4"
      ]
     },
     "execution_count": 6,
     "metadata": {},
     "output_type": "execute_result"
    }
   ],
   "source": [
    "ar[0,3]"
   ]
  },
  {
   "cell_type": "code",
   "execution_count": 7,
   "id": "016f9f08",
   "metadata": {},
   "outputs": [
    {
     "data": {
      "text/plain": [
       "array([[ 1,  4,  6],\n",
       "       [ 0,  9, 12],\n",
       "       [ 9,  7,  4]])"
      ]
     },
     "execution_count": 7,
     "metadata": {},
     "output_type": "execute_result"
    }
   ],
   "source": [
    "lar = np.array([[1,4,6],[0,9,12],[9,7,4]])\n",
    "lar"
   ]
  },
  {
   "cell_type": "code",
   "execution_count": 8,
   "id": "57c559e4",
   "metadata": {},
   "outputs": [
    {
     "data": {
      "text/plain": [
       "2"
      ]
     },
     "execution_count": 8,
     "metadata": {},
     "output_type": "execute_result"
    }
   ],
   "source": [
    "lar.ndim"
   ]
  },
  {
   "cell_type": "code",
   "execution_count": 9,
   "id": "1ed88c1a",
   "metadata": {},
   "outputs": [
    {
     "data": {
      "text/plain": [
       "array([1, 9, 4])"
      ]
     },
     "execution_count": 9,
     "metadata": {},
     "output_type": "execute_result"
    }
   ],
   "source": [
    "lar.diagonal()"
   ]
  },
  {
   "cell_type": "code",
   "execution_count": 10,
   "id": "eb029f72",
   "metadata": {},
   "outputs": [
    {
     "data": {
      "text/plain": [
       "array([ 4, 12])"
      ]
     },
     "execution_count": 10,
     "metadata": {},
     "output_type": "execute_result"
    }
   ],
   "source": [
    "lar.diagonal(1)"
   ]
  },
  {
   "cell_type": "code",
   "execution_count": 11,
   "id": "f600212f",
   "metadata": {},
   "outputs": [
    {
     "data": {
      "text/plain": [
       "array([6])"
      ]
     },
     "execution_count": 11,
     "metadata": {},
     "output_type": "execute_result"
    }
   ],
   "source": [
    "lar.diagonal(2)"
   ]
  },
  {
   "cell_type": "code",
   "execution_count": 12,
   "id": "c1138c7b",
   "metadata": {},
   "outputs": [
    {
     "data": {
      "text/plain": [
       "array([[[0, 1],\n",
       "        [2, 3]],\n",
       "\n",
       "       [[4, 5],\n",
       "        [6, 7]]])"
      ]
     },
     "execution_count": 12,
     "metadata": {},
     "output_type": "execute_result"
    }
   ],
   "source": [
    "three=np.array([[[0,1],[2,3]],[[4,5],[6,7]]])\n",
    "three"
   ]
  },
  {
   "cell_type": "code",
   "execution_count": 13,
   "id": "db938672",
   "metadata": {},
   "outputs": [
    {
     "data": {
      "text/plain": [
       "array([[0, 6],\n",
       "       [1, 7]])"
      ]
     },
     "execution_count": 13,
     "metadata": {},
     "output_type": "execute_result"
    }
   ],
   "source": [
    "three.diagonal()"
   ]
  },
  {
   "cell_type": "code",
   "execution_count": 14,
   "id": "2e0ae06d",
   "metadata": {},
   "outputs": [
    {
     "data": {
      "text/plain": [
       "array([ 1,  4, 24,  0,  0,  0,  0,  0,  0], dtype=int32)"
      ]
     },
     "execution_count": 14,
     "metadata": {},
     "output_type": "execute_result"
    }
   ],
   "source": [
    "lar.cumprod()"
   ]
  },
  {
   "cell_type": "code",
   "execution_count": 15,
   "id": "2615b134",
   "metadata": {},
   "outputs": [
    {
     "data": {
      "text/plain": [
       "array([ 0,  1,  3,  6, 10, 15, 21, 28], dtype=int32)"
      ]
     },
     "execution_count": 15,
     "metadata": {},
     "output_type": "execute_result"
    }
   ],
   "source": [
    "three.cumsum()"
   ]
  },
  {
   "cell_type": "code",
   "execution_count": 16,
   "id": "e3d28170",
   "metadata": {},
   "outputs": [
    {
     "data": {
      "text/plain": [
       "array([0, 0, 0, 0, 0, 0, 0, 0], dtype=int32)"
      ]
     },
     "execution_count": 16,
     "metadata": {},
     "output_type": "execute_result"
    }
   ],
   "source": [
    "three.cumprod()"
   ]
  },
  {
   "cell_type": "code",
   "execution_count": 17,
   "id": "934462a7",
   "metadata": {},
   "outputs": [
    {
     "data": {
      "text/plain": [
       "array([ 1,  5, 11, 11, 20, 32, 41, 48, 52], dtype=int32)"
      ]
     },
     "execution_count": 17,
     "metadata": {},
     "output_type": "execute_result"
    }
   ],
   "source": [
    "lar.cumsum()"
   ]
  },
  {
   "cell_type": "code",
   "execution_count": 18,
   "id": "7b253265",
   "metadata": {},
   "outputs": [
    {
     "data": {
      "text/plain": [
       "array([  0, 252, 288])"
      ]
     },
     "execution_count": 18,
     "metadata": {},
     "output_type": "execute_result"
    }
   ],
   "source": [
    "lar.prod(0)"
   ]
  },
  {
   "cell_type": "code",
   "execution_count": 19,
   "id": "c760c463",
   "metadata": {},
   "outputs": [
    {
     "data": {
      "text/plain": [
       "array([[ 1,  4,  6],\n",
       "       [ 0,  9, 12],\n",
       "       [ 9,  7,  4]])"
      ]
     },
     "execution_count": 19,
     "metadata": {},
     "output_type": "execute_result"
    }
   ],
   "source": [
    "lar"
   ]
  },
  {
   "cell_type": "code",
   "execution_count": 20,
   "id": "7d32f07b",
   "metadata": {},
   "outputs": [
    {
     "data": {
      "text/plain": [
       "array([ 24,   0, 252])"
      ]
     },
     "execution_count": 20,
     "metadata": {},
     "output_type": "execute_result"
    }
   ],
   "source": [
    "lar.prod(1)"
   ]
  },
  {
   "cell_type": "code",
   "execution_count": 21,
   "id": "5b4d95dc",
   "metadata": {},
   "outputs": [
    {
     "data": {
      "text/plain": [
       "array([[ 0,  5],\n",
       "       [12, 21]])"
      ]
     },
     "execution_count": 21,
     "metadata": {},
     "output_type": "execute_result"
    }
   ],
   "source": [
    "three.prod(0)"
   ]
  },
  {
   "cell_type": "code",
   "execution_count": 22,
   "id": "abc7f0c3",
   "metadata": {},
   "outputs": [
    {
     "data": {
      "text/plain": [
       "array([[[0, 1],\n",
       "        [2, 3]],\n",
       "\n",
       "       [[4, 5],\n",
       "        [6, 7]]])"
      ]
     },
     "execution_count": 22,
     "metadata": {},
     "output_type": "execute_result"
    }
   ],
   "source": [
    "three"
   ]
  },
  {
   "cell_type": "code",
   "execution_count": 23,
   "id": "12b6f6d6",
   "metadata": {},
   "outputs": [
    {
     "data": {
      "text/plain": [
       "array([[ 0,  3],\n",
       "       [24, 35]])"
      ]
     },
     "execution_count": 23,
     "metadata": {},
     "output_type": "execute_result"
    }
   ],
   "source": [
    "three.prod(1)"
   ]
  },
  {
   "cell_type": "code",
   "execution_count": 24,
   "id": "bbd3ed50",
   "metadata": {},
   "outputs": [
    {
     "data": {
      "text/plain": [
       "array([[ 0,  6],\n",
       "       [20, 42]])"
      ]
     },
     "execution_count": 24,
     "metadata": {},
     "output_type": "execute_result"
    }
   ],
   "source": [
    "three.prod(2)"
   ]
  },
  {
   "cell_type": "code",
   "execution_count": 25,
   "id": "9f0fc338",
   "metadata": {},
   "outputs": [
    {
     "data": {
      "text/plain": [
       "12"
      ]
     },
     "execution_count": 25,
     "metadata": {},
     "output_type": "execute_result"
    }
   ],
   "source": [
    "lar.ptp()"
   ]
  },
  {
   "cell_type": "code",
   "execution_count": 26,
   "id": "0adee701",
   "metadata": {},
   "outputs": [
    {
     "data": {
      "text/plain": [
       "12"
      ]
     },
     "execution_count": 26,
     "metadata": {},
     "output_type": "execute_result"
    }
   ],
   "source": [
    "lar.max()"
   ]
  },
  {
   "cell_type": "code",
   "execution_count": 27,
   "id": "98ac21b9",
   "metadata": {},
   "outputs": [
    {
     "data": {
      "text/plain": [
       "array([ 9,  9, 12])"
      ]
     },
     "execution_count": 27,
     "metadata": {},
     "output_type": "execute_result"
    }
   ],
   "source": [
    "lar.max(0)"
   ]
  },
  {
   "cell_type": "code",
   "execution_count": 28,
   "id": "8713c4e3",
   "metadata": {},
   "outputs": [
    {
     "data": {
      "text/plain": [
       "array([ 6, 12,  9])"
      ]
     },
     "execution_count": 28,
     "metadata": {},
     "output_type": "execute_result"
    }
   ],
   "source": [
    "lar.max(1)"
   ]
  },
  {
   "cell_type": "code",
   "execution_count": 29,
   "id": "fa9d335b",
   "metadata": {},
   "outputs": [
    {
     "data": {
      "text/plain": [
       "0"
      ]
     },
     "execution_count": 29,
     "metadata": {},
     "output_type": "execute_result"
    }
   ],
   "source": [
    "lar.min()"
   ]
  },
  {
   "cell_type": "code",
   "execution_count": 30,
   "id": "a7107aa9",
   "metadata": {},
   "outputs": [
    {
     "data": {
      "text/plain": [
       "array([0, 4, 4])"
      ]
     },
     "execution_count": 30,
     "metadata": {},
     "output_type": "execute_result"
    }
   ],
   "source": [
    "lar.min(0)"
   ]
  },
  {
   "cell_type": "code",
   "execution_count": 31,
   "id": "4cccd8d3",
   "metadata": {},
   "outputs": [
    {
     "data": {
      "text/plain": [
       "array([1, 0, 4])"
      ]
     },
     "execution_count": 31,
     "metadata": {},
     "output_type": "execute_result"
    }
   ],
   "source": [
    "lar.min(1)"
   ]
  },
  {
   "cell_type": "code",
   "execution_count": 32,
   "id": "4a876eca",
   "metadata": {},
   "outputs": [
    {
     "data": {
      "text/plain": [
       "array([9, 5, 8])"
      ]
     },
     "execution_count": 32,
     "metadata": {},
     "output_type": "execute_result"
    }
   ],
   "source": [
    "lar.ptp(0)"
   ]
  },
  {
   "cell_type": "code",
   "execution_count": 33,
   "id": "0929c116",
   "metadata": {},
   "outputs": [
    {
     "data": {
      "text/plain": [
       "array([[[0, 1],\n",
       "        [2, 3]],\n",
       "\n",
       "       [[4, 5],\n",
       "        [6, 7]]])"
      ]
     },
     "execution_count": 33,
     "metadata": {},
     "output_type": "execute_result"
    }
   ],
   "source": [
    "three"
   ]
  },
  {
   "cell_type": "code",
   "execution_count": 34,
   "id": "ceb631bf",
   "metadata": {},
   "outputs": [
    {
     "data": {
      "text/plain": [
       "array([ 5, 12,  5])"
      ]
     },
     "execution_count": 34,
     "metadata": {},
     "output_type": "execute_result"
    }
   ],
   "source": [
    "lar.ptp(1)"
   ]
  },
  {
   "cell_type": "code",
   "execution_count": 35,
   "id": "c04ae48c",
   "metadata": {},
   "outputs": [
    {
     "data": {
      "text/plain": [
       "3.705184889007348"
      ]
     },
     "execution_count": 35,
     "metadata": {},
     "output_type": "execute_result"
    }
   ],
   "source": [
    "lar.std()"
   ]
  },
  {
   "cell_type": "code",
   "execution_count": 36,
   "id": "9175d382",
   "metadata": {},
   "outputs": [
    {
     "data": {
      "text/plain": [
       "5.777777777777778"
      ]
     },
     "execution_count": 36,
     "metadata": {},
     "output_type": "execute_result"
    }
   ],
   "source": [
    "lar.mean()"
   ]
  },
  {
   "cell_type": "code",
   "execution_count": 37,
   "id": "4dc2bf58",
   "metadata": {},
   "outputs": [
    {
     "data": {
      "text/plain": [
       "array([4.02768199, 2.05480467, 3.39934634])"
      ]
     },
     "execution_count": 37,
     "metadata": {},
     "output_type": "execute_result"
    }
   ],
   "source": [
    "lar.std(0)"
   ]
  },
  {
   "cell_type": "code",
   "execution_count": 38,
   "id": "9bb9eaf8",
   "metadata": {},
   "outputs": [
    {
     "data": {
      "text/plain": [
       "13.728395061728396"
      ]
     },
     "execution_count": 38,
     "metadata": {},
     "output_type": "execute_result"
    }
   ],
   "source": [
    "lar.var()"
   ]
  },
  {
   "cell_type": "code",
   "execution_count": 39,
   "id": "836f25a3",
   "metadata": {},
   "outputs": [
    {
     "data": {
      "text/plain": [
       "array([[ 1,  0,  9],\n",
       "       [ 4,  9,  7],\n",
       "       [ 6, 12,  4]])"
      ]
     },
     "execution_count": 39,
     "metadata": {},
     "output_type": "execute_result"
    }
   ],
   "source": [
    "lar.T"
   ]
  },
  {
   "cell_type": "code",
   "execution_count": 40,
   "id": "b6dc5ceb",
   "metadata": {},
   "outputs": [
    {
     "data": {
      "text/plain": [
       "array([[[0, 1],\n",
       "        [4, 5]],\n",
       "\n",
       "       [[2, 3],\n",
       "        [6, 7]]])"
      ]
     },
     "execution_count": 40,
     "metadata": {},
     "output_type": "execute_result"
    }
   ],
   "source": [
    "three.swapaxes(0,1)"
   ]
  },
  {
   "cell_type": "code",
   "execution_count": 41,
   "id": "108494a4",
   "metadata": {},
   "outputs": [
    {
     "data": {
      "text/plain": [
       "array([[[0, 1],\n",
       "        [2, 3]],\n",
       "\n",
       "       [[4, 5],\n",
       "        [6, 7]]])"
      ]
     },
     "execution_count": 41,
     "metadata": {},
     "output_type": "execute_result"
    }
   ],
   "source": [
    "three"
   ]
  },
  {
   "cell_type": "code",
   "execution_count": 42,
   "id": "3463a7a4",
   "metadata": {},
   "outputs": [
    {
     "data": {
      "text/plain": [
       "14"
      ]
     },
     "execution_count": 42,
     "metadata": {},
     "output_type": "execute_result"
    }
   ],
   "source": [
    "lar.trace()"
   ]
  },
  {
   "cell_type": "code",
   "execution_count": 43,
   "id": "d9b3c4a8",
   "metadata": {},
   "outputs": [
    {
     "data": {
      "text/plain": [
       "array([[ 1,  4,  6],\n",
       "       [ 0,  9, 12],\n",
       "       [ 9,  7,  4]])"
      ]
     },
     "execution_count": 43,
     "metadata": {},
     "output_type": "execute_result"
    }
   ],
   "source": [
    "lar"
   ]
  },
  {
   "cell_type": "code",
   "execution_count": 44,
   "id": "4df47469",
   "metadata": {},
   "outputs": [
    {
     "data": {
      "text/plain": [
       "array([[ 1,  4,  6],\n",
       "       [ 1,  4,  6],\n",
       "       [ 0,  9, 12],\n",
       "       [ 0,  9, 12],\n",
       "       [ 9,  7,  4],\n",
       "       [ 9,  7,  4]])"
      ]
     },
     "execution_count": 44,
     "metadata": {},
     "output_type": "execute_result"
    }
   ],
   "source": [
    "np.repeat(lar,2,axis=0)"
   ]
  },
  {
   "cell_type": "code",
   "execution_count": 45,
   "id": "47d9ce4d",
   "metadata": {},
   "outputs": [
    {
     "data": {
      "text/plain": [
       "array([ 1,  1,  4,  4,  6,  6,  0,  0,  9,  9, 12, 12,  9,  9,  7,  7,  4,\n",
       "        4])"
      ]
     },
     "execution_count": 45,
     "metadata": {},
     "output_type": "execute_result"
    }
   ],
   "source": [
    "np.repeat(lar,2)"
   ]
  },
  {
   "cell_type": "code",
   "execution_count": 46,
   "id": "282b83b4",
   "metadata": {},
   "outputs": [
    {
     "data": {
      "text/plain": [
       "3.705184889007348"
      ]
     },
     "execution_count": 46,
     "metadata": {},
     "output_type": "execute_result"
    }
   ],
   "source": [
    "lar.std()"
   ]
  },
  {
   "cell_type": "code",
   "execution_count": 47,
   "id": "70e8175c",
   "metadata": {},
   "outputs": [
    {
     "data": {
      "text/plain": [
       "array([4.02768199, 2.05480467, 3.39934634])"
      ]
     },
     "execution_count": 47,
     "metadata": {},
     "output_type": "execute_result"
    }
   ],
   "source": [
    "lar.std(0)"
   ]
  },
  {
   "cell_type": "code",
   "execution_count": 48,
   "id": "696165de",
   "metadata": {},
   "outputs": [
    {
     "data": {
      "text/plain": [
       "array([2.05480467, 5.09901951, 2.05480467])"
      ]
     },
     "execution_count": 48,
     "metadata": {},
     "output_type": "execute_result"
    }
   ],
   "source": [
    "lar.std(1)"
   ]
  },
  {
   "cell_type": "code",
   "execution_count": 49,
   "id": "6e734769",
   "metadata": {},
   "outputs": [
    {
     "data": {
      "text/plain": [
       "13.728395061728396"
      ]
     },
     "execution_count": 49,
     "metadata": {},
     "output_type": "execute_result"
    }
   ],
   "source": [
    "lar.var()"
   ]
  },
  {
   "cell_type": "code",
   "execution_count": 50,
   "id": "4f82d88a",
   "metadata": {},
   "outputs": [
    {
     "data": {
      "text/plain": [
       "array([16.22222222,  4.22222222, 11.55555556])"
      ]
     },
     "execution_count": 50,
     "metadata": {},
     "output_type": "execute_result"
    }
   ],
   "source": [
    "lar.var(0)"
   ]
  },
  {
   "cell_type": "code",
   "execution_count": 51,
   "id": "711335e3",
   "metadata": {},
   "outputs": [
    {
     "data": {
      "text/plain": [
       "array([ 4.22222222, 26.        ,  4.22222222])"
      ]
     },
     "execution_count": 51,
     "metadata": {},
     "output_type": "execute_result"
    }
   ],
   "source": [
    "lar.var(1)"
   ]
  },
  {
   "cell_type": "code",
   "execution_count": 52,
   "id": "edcbd222",
   "metadata": {},
   "outputs": [
    {
     "data": {
      "text/plain": [
       "array([3.66666667, 7.        , 6.66666667])"
      ]
     },
     "execution_count": 52,
     "metadata": {},
     "output_type": "execute_result"
    }
   ],
   "source": [
    "lar.mean(1)"
   ]
  }
 ],
 "metadata": {
  "kernelspec": {
   "display_name": "Python 3 (ipykernel)",
   "language": "python",
   "name": "python3"
  },
  "language_info": {
   "codemirror_mode": {
    "name": "ipython",
    "version": 3
   },
   "file_extension": ".py",
   "mimetype": "text/x-python",
   "name": "python",
   "nbconvert_exporter": "python",
   "pygments_lexer": "ipython3",
   "version": "3.9.7"
  }
 },
 "nbformat": 4,
 "nbformat_minor": 5
}
