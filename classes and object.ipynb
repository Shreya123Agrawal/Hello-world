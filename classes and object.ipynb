{
 "cells": [
  {
   "cell_type": "code",
   "execution_count": 1,
   "id": "1468616a",
   "metadata": {},
   "outputs": [
    {
     "name": "stdout",
     "output_type": "stream",
     "text": [
      "hello world!\n"
     ]
    }
   ],
   "source": [
    "class vehicle:\n",
    "    i=\"hello world!\"\n",
    "m=vehicle()\n",
    "print(m.i)"
   ]
  },
  {
   "cell_type": "code",
   "execution_count": 8,
   "id": "67b10dad",
   "metadata": {},
   "outputs": [
    {
     "ename": "AttributeError",
     "evalue": "'vehicle' object has no attribute 'vehicle'",
     "output_type": "error",
     "traceback": [
      "\u001b[1;31m---------------------------------------------------------------------------\u001b[0m",
      "\u001b[1;31mAttributeError\u001b[0m                            Traceback (most recent call last)",
      "\u001b[1;32m~\\AppData\\Local\\Temp/ipykernel_4632/1831862753.py\u001b[0m in \u001b[0;36m<module>\u001b[1;34m\u001b[0m\n\u001b[0;32m      3\u001b[0m         \u001b[1;32mpass\u001b[0m\u001b[1;33m\u001b[0m\u001b[1;33m\u001b[0m\u001b[0m\n\u001b[0;32m      4\u001b[0m \u001b[0mk\u001b[0m\u001b[1;33m=\u001b[0m\u001b[0mvehicle\u001b[0m\u001b[1;33m(\u001b[0m\u001b[1;33m)\u001b[0m\u001b[1;33m\u001b[0m\u001b[1;33m\u001b[0m\u001b[0m\n\u001b[1;32m----> 5\u001b[1;33m \u001b[0mk\u001b[0m\u001b[1;33m.\u001b[0m\u001b[0mvehicle\u001b[0m\u001b[1;33m(\u001b[0m\u001b[1;33m)\u001b[0m\u001b[1;33m\u001b[0m\u001b[1;33m\u001b[0m\u001b[0m\n\u001b[0m",
      "\u001b[1;31mAttributeError\u001b[0m: 'vehicle' object has no attribute 'vehicle'"
     ]
    }
   ],
   "source": [
    "class vehicle:\n",
    "    def myfunct(self):\n",
    "        pass\n",
    "k=vehicle()\n",
    "k.vehicle()"
   ]
  },
  {
   "cell_type": "code",
   "execution_count": 11,
   "id": "fec94871",
   "metadata": {},
   "outputs": [
    {
     "name": "stdout",
     "output_type": "stream",
     "text": [
      "2 argument\n"
     ]
    }
   ],
   "source": [
    "class same:\n",
    "    def different(self):\n",
    "        print(\"no argument\")\n",
    "    def different(self,a):\n",
    "        print(\"1 argument\")\n",
    "    def different(self,a,b):\n",
    "        print(\"2 argument\")\n",
    "x=same()\n",
    "x.different(12,6)\n",
    "        \n",
    "    \n",
    "    "
   ]
  },
  {
   "cell_type": "code",
   "execution_count": 14,
   "id": "cbef9630",
   "metadata": {},
   "outputs": [
    {
     "name": "stdout",
     "output_type": "stream",
     "text": [
      "I love myself\n",
      "I love neha\n"
     ]
    }
   ],
   "source": [
    "class vehicle:\n",
    "    def shreya(self):\n",
    "        print(\"I love myself\")\n",
    "class bus(vehicle): \n",
    "    def neha(self):\n",
    "        print(\"I love neha\")\n",
    "x=bus()\n",
    "x.shreya()\n",
    "x.neha()\n",
    "        "
   ]
  },
  {
   "cell_type": "code",
   "execution_count": 18,
   "id": "4cbf5c73",
   "metadata": {},
   "outputs": [
    {
     "name": "stdout",
     "output_type": "stream",
     "text": [
      "I love neha\n",
      "I love myself\n"
     ]
    }
   ],
   "source": [
    "class vehicle:\n",
    "    def shreya(self):\n",
    "        print(\"I love myself\")\n",
    "        \n",
    "class bus(vehicle): \n",
    "    def shreya(self):\n",
    "        print(\"I love neha\")\n",
    "        super().shreya()\n",
    "x=bus()\n",
    "x.shreya()"
   ]
  },
  {
   "cell_type": "code",
   "execution_count": 22,
   "id": "af81be9c",
   "metadata": {},
   "outputs": [
    {
     "name": "stdout",
     "output_type": "stream",
     "text": [
      "<re.Match object; span=(0, 1), match='a'>\n"
     ]
    }
   ],
   "source": [
    "import re\n",
    "pattern=r\"^a\"\n",
    "string=\"asdfghjkl\"\n",
    "x=re.match(pattern,string)\n",
    "print(x)"
   ]
  },
  {
   "cell_type": "code",
   "execution_count": 56,
   "id": "7e696da4",
   "metadata": {},
   "outputs": [
    {
     "name": "stdout",
     "output_type": "stream",
     "text": [
      "<re.Match object; span=(0, 6), match='abcdef'>\n"
     ]
    }
   ],
   "source": [
    "import re\n",
    "pattern=r\"abcdef\"\n",
    "string=\"abcdefghijklmnopqrstuvwxyzABCDEFGHIJKLMNOPQRSTUVWXYZ\"\n",
    "x=re.match(pattern,string)\n",
    "print(x)"
   ]
  },
  {
   "cell_type": "code",
   "execution_count": 36,
   "id": "1008a32d",
   "metadata": {},
   "outputs": [
    {
     "name": "stdout",
     "output_type": "stream",
     "text": [
      "after replace: I am currently use keyboard for type\n"
     ]
    }
   ],
   "source": [
    "import re\n",
    "str1=\"I am currently using keyboard for typing\"\n",
    "result=re.sub(r\"ing\",\"e\",str1)\n",
    "print(\"after replace:\",result)"
   ]
  },
  {
   "cell_type": "code",
   "execution_count": 43,
   "id": "5a990fd4",
   "metadata": {},
   "outputs": [
    {
     "name": "stdout",
     "output_type": "stream",
     "text": [
      "<re.Match object; span=(1, 3), match='12'>\n"
     ]
    }
   ],
   "source": [
    "import re\n",
    "number=\"0123456789\"\n",
    "result=re.search(\"12\",number)\n",
    "print(result)"
   ]
  },
  {
   "cell_type": "code",
   "execution_count": 51,
   "id": "ebbfde40",
   "metadata": {},
   "outputs": [
    {
     "name": "stdout",
     "output_type": "stream",
     "text": [
      "None\n"
     ]
    }
   ],
   "source": [
    "import re\n",
    "pattern=r\"abcd\"\n",
    "string=\"asdER456ZioD89KhgyA34j\"\n",
    "result=re.match(pattern,string)\n",
    "print(result)"
   ]
  },
  {
   "cell_type": "code",
   "execution_count": 53,
   "id": "f6fda500",
   "metadata": {},
   "outputs": [
    {
     "name": "stdout",
     "output_type": "stream",
     "text": [
      "<re.Match object; span=(0, 7), match='asdER45'>\n"
     ]
    }
   ],
   "source": [
    "import re\n",
    "pattern=r\"asdER45\"\n",
    "string=\"asdER456ZioD89KhgyA34j\"\n",
    "result=re.match(pattern,string)\n",
    "print(result)"
   ]
  },
  {
   "cell_type": "code",
   "execution_count": null,
   "id": "0dfe23ad",
   "metadata": {},
   "outputs": [],
   "source": []
  },
  {
   "cell_type": "code",
   "execution_count": null,
   "id": "930587d7",
   "metadata": {},
   "outputs": [],
   "source": []
  }
 ],
 "metadata": {
  "kernelspec": {
   "display_name": "Python 3 (ipykernel)",
   "language": "python",
   "name": "python3"
  },
  "language_info": {
   "codemirror_mode": {
    "name": "ipython",
    "version": 3
   },
   "file_extension": ".py",
   "mimetype": "text/x-python",
   "name": "python",
   "nbconvert_exporter": "python",
   "pygments_lexer": "ipython3",
   "version": "3.9.7"
  }
 },
 "nbformat": 4,
 "nbformat_minor": 5
}
